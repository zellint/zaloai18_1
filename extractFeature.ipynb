{
 "cells": [
  {
   "cell_type": "code",
   "execution_count": 1,
   "metadata": {
    "collapsed": true
   },
   "outputs": [],
   "source": [
    "import matplotlib.pyplot as plt\n",
    "%matplotlib inline\n",
    "import os\n",
    "import pandas as pd\n",
    "import numpy as np"
   ]
  },
  {
   "cell_type": "code",
   "execution_count": 2,
   "metadata": {
    "collapsed": true
   },
   "outputs": [],
   "source": [
    "import librosa"
   ]
  },
  {
   "cell_type": "code",
   "execution_count": 3,
   "metadata": {
    "collapsed": true
   },
   "outputs": [],
   "source": [
    "data, sampling_rate = librosa.load('./test/100059573609216054.mp3')"
   ]
  },
  {
   "cell_type": "code",
   "execution_count": 4,
   "metadata": {
    "collapsed": false
   },
   "outputs": [
    {
     "data": {
      "text/plain": [
       "<matplotlib.collections.PolyCollection at 0x11af6ce50>"
      ]
     },
     "execution_count": 4,
     "metadata": {},
     "output_type": "execute_result"
    },
    {
     "data": {
      "image/png": "[encoded data removed]",
      "text/plain": [
       "<matplotlib.figure.Figure at 0x11b2898d0>"
      ]
     },
     "metadata": {},
     "output_type": "display_data"
    }
   ],
   "source": [
    "import librosa.display\n",
    "plt.figure(figsize=(12, 4))\n",
    "librosa.display.waveplot(data, sr=sampling_rate)"
   ]
  },
  {
   "cell_type": "code",
   "execution_count": 5,
   "metadata": {
    "collapsed": false
   },
   "outputs": [],
   "source": [
    "filename = './test/100059573609216054.mp3'\n",
    "X, sample_rate = librosa.load(filename, res_type='kaiser_fast') \n",
    "mfccs = np.mean(librosa.feature.mfcc(y=X, sr=sample_rate, n_mfcc=40).T,axis=0) "
   ]
  },
  {
   "cell_type": "code",
   "execution_count": 6,
   "metadata": {
    "collapsed": false
   },
   "outputs": [
    {
     "data": {
      "text/plain": [
       "(40,)"
      ]
     },
     "execution_count": 6,
     "metadata": {},
     "output_type": "execute_result"
    }
   ],
   "source": [
    "mfccs.shape\n"
   ]
  },
  {
   "cell_type": "code",
   "execution_count": 7,
   "metadata": {
    "collapsed": true
   },
   "outputs": [],
   "source": [
    "def extract_feature(file_name):\n",
    "    X, sample_rate = librosa.load(file_name)\n",
    "    stft = np.abs(librosa.stft(X))\n",
    "    mfccs = np.mean(librosa.feature.mfcc(y=X, sr=sample_rate, n_mfcc=40).T,axis=0)\n",
    "#     chroma = np.mean(librosa.feature.chroma_stft(S=stft, sr=sample_rate).T,axis=0)\n",
    "#     mel = np.mean(librosa.feature.melspectrogram(X, sr=sample_rate).T,axis=0)\n",
    "#     contrast = np.mean(librosa.feature.spectral_contrast(S=stft, sr=sample_rate).T,axis=0)\n",
    "#     tonnetz = np.mean(librosa.feature.tonnetz(y=librosa.effects.harmonic(X),\n",
    "#     sr=sample_rate).T,axis=0)\n",
    "#     return mfccs,chroma,mel,contrast,tonnetz\n",
    "    return mfccs"
   ]
  },
  {
   "cell_type": "code",
   "execution_count": 10,
   "metadata": {
    "collapsed": false
   },
   "outputs": [
    {
     "name": "stdout",
     "output_type": "stream",
     "text": [
      "CPU times: user 6.61 s, sys: 135 ms, total: 6.74 s\n",
      "Wall time: 6.7 s\n"
     ]
    }
   ],
   "source": [
    "%%time\n",
    "# mfccs, chroma, mel, contrast, tonnetz = extract_feature(filename)\n",
    "mfccs = extract_feature(filename)"
   ]
  },
  {
   "cell_type": "code",
   "execution_count": 9,
   "metadata": {
    "collapsed": false
   },
   "outputs": [
    {
     "name": "stdout",
     "output_type": "stream",
     "text": [
      "[ -4.09191573e+01   7.80051282e+01   2.86513033e+00   2.97546833e+01\n",
      "  -1.62585810e+00   1.43841207e+01   2.64833133e+00   2.12979628e+00\n",
      "   5.93800098e+00   2.03179016e+00  -3.31067055e+00   1.82276871e-01\n",
      "  -3.46291345e+00   2.50755354e+00  -2.70473062e+00   4.44057655e+00\n",
      "   3.47890119e+00   9.95379527e+00   3.59501655e-03   6.63568045e+00\n",
      "  -4.20976699e+00   2.39896489e+00   8.76450879e-01   1.97845538e+00\n",
      "   2.09864721e-01   2.74325543e+00  -2.79442817e+00   2.81415058e+00\n",
      "  -5.14728597e+00   2.62636978e+00   4.46706199e-01   2.01536804e+00\n",
      "  -3.09386557e-01   2.46706787e+00  -1.35086881e-02   4.84745708e+00\n",
      "  -1.94220498e+00   3.47971237e+00  -5.23257668e+00  -2.56230124e+00]\n",
      "(40,)\n"
     ]
    }
   ],
   "source": [
    "print mfccs\n",
    "print np.shape(mfccs)"
   ]
  },
  {
   "cell_type": "code",
   "execution_count": 11,
   "metadata": {
    "collapsed": true
   },
   "outputs": [],
   "source": [
    "# def writeDown(datas,folder, idx = 0):\n",
    "#     for i, feature in enumerate(['mfccs', 'chroma', 'mel', 'contrast', 'tonnetz']):\n",
    "#         with open('/Users/zellist/Documents/zaloai/%s_%d_%s'%(folder,idx,feature), 'w')as f:\n",
    "#             for k, v in datas.items():\n",
    "#                 f.write('%s :'%(k))\n",
    "#                 for n in v[i]:\n",
    "#                     f.write('%f '%(n))\n",
    "#                 f.write('\\n')\n",
    "def writeDown(datas,folder, idx = 0):\n",
    "    feature='mfccs'\n",
    "    with open('/Users/zellist/Documents/zaloai/%s_%d_%s'%(folder,idx,feature), 'w')as f:\n",
    "        for k, v in datas.items():\n",
    "            f.write('%s :'%(k))\n",
    "            for n in v:\n",
    "                f.write('%f '%(n))\n",
    "            f.write('\\n')"
   ]
  },
  {
   "cell_type": "code",
   "execution_count": null,
   "metadata": {
    "collapsed": false
   },
   "outputs": [
    {
     "name": "stdout",
     "output_type": "stream",
     "text": [
      " 2 / 5158 /Users/zellist/Documents/zaloai/train/1014929727811186294.mp3"
     ]
    }
   ],
   "source": [
    "import glob\n",
    "\n",
    "\n",
    "for folder in ['train','test']:\n",
    "    _folder = '/Users/zellist/Documents/zaloai/%s/*.mp3'%(folder)\n",
    "    cnt=0\n",
    "    datas = {}\n",
    "    allmp3s = glob.glob(_folder)\n",
    "    for mi, mp3 in enumerate(allmp3s):\n",
    "        try:\n",
    "            print '\\r %d / %d %s'%(mi,len(allmp3s),mp3),\n",
    "            filename = os.path.basename(mp3)\n",
    "            datas[filename]= (extract_feature(mp3))        \n",
    "        except : continue\n",
    "        if len(datas)==50:\n",
    "            writeDown(datas, folder, cnt)\n",
    "            cnt+=1\n",
    "            datas = {}\n",
    "    writeDown(datas,folder,cnt)\n",
    "    \n",
    "            "
   ]
  },
  {
   "cell_type": "code",
   "execution_count": null,
   "metadata": {
    "collapsed": true
   },
   "outputs": [],
   "source": []
  }
 ],
 "metadata": {
  "kernelspec": {
   "display_name": "Python 2",
   "language": "python",
   "name": "python2"
  },
  "language_info": {
   "codemirror_mode": {
    "name": "ipython",
    "version": 2
   },
   "file_extension": ".py",
   "mimetype": "text/x-python",
   "name": "python",
   "nbconvert_exporter": "python",
   "pygments_lexer": "ipython2",
   "version": "2.7.13"
  }
 },
 "nbformat": 4,
 "nbformat_minor": 0
}
